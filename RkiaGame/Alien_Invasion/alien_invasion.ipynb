{
 "cells": [
  {
   "cell_type": "code",
   "execution_count": 3,
   "metadata": {},
   "outputs": [],
   "source": [
    "import sys\n",
    "import pygame\n",
    "    "
   ]
  },
  {
   "cell_type": "markdown",
   "metadata": {},
   "source": [
    "### Initialize"
   ]
  },
  {
   "cell_type": "code",
   "execution_count": 4,
   "metadata": {},
   "outputs": [
    {
     "ename": "SystemExit",
     "evalue": "",
     "output_type": "error",
     "traceback": [
      "An exception has occurred, use %tb to see the full traceback.\n",
      "\u001b[1;31mSystemExit\u001b[0m\n"
     ]
    },
    {
     "name": "stderr",
     "output_type": "stream",
     "text": [
      "C:\\Users\\user\\AppData\\Local\\Programs\\Python\\Python310\\lib\\site-packages\\IPython\\core\\interactiveshell.py:3377: UserWarning: To exit: use 'exit', 'quit', or Ctrl-D.\n",
      "  warn(\"To exit: use 'exit', 'quit', or Ctrl-D.\", stacklevel=1)\n"
     ]
    }
   ],
   "source": [
    "class AlienInvasion:\n",
    "    \"\"\"Overall class to manage game assets and behavior.\"\"\"\n",
    "    \n",
    "    def _init_(self):\n",
    "        \"\"\"Initialize the game, and create game resources.\"\"\"\n",
    "        pygame.init()\n",
    "\n",
    "        self.screen = pygame.display.set_mode((1200, 800))\n",
    "        pygame.display.set_caption(\"Alien Invasion\")\n",
    "\n",
    "        # Set the background color.\n",
    "        self.bg_color = (230, 230, 230)\n",
    "\n",
    "\n",
    "    def run_game(self):\n",
    "        \"\"\"Start the main loop for the game.\"\"\"\n",
    "        while True:\n",
    "            # Watch for keyboard and mouse events.\n",
    "            for event in pygame.event.get():\n",
    "                if event.type == pygame.QUIT:\n",
    "                    sys.exit()\n",
    "\n",
    "            # Redraw the screen during each pass through the loop.\n",
    "            self.screen.fill(self.bg_color)\n",
    "\n",
    "            #Make the most recently drawn screen visible.\n",
    "            pygame.display.flip()\n",
    "\n",
    "\n",
    "if __name__ == '__main__':\n",
    "    # Make a game instance, and run the game.\n",
    "    ai = AlienInvasion()\n",
    "    ai._init_()\n",
    "    ai.run_game()\n",
    "\n"
   ]
  }
 ],
 "metadata": {
  "interpreter": {
   "hash": "5d240ba0dc525c389faa33f5dcce5b4f32b6d6aa6d70d6d2dd929bd2b09ab69f"
  },
  "kernelspec": {
   "display_name": "Python 3.10.2 64-bit",
   "language": "python",
   "name": "python3"
  },
  "language_info": {
   "codemirror_mode": {
    "name": "ipython",
    "version": 3
   },
   "file_extension": ".py",
   "mimetype": "text/x-python",
   "name": "python",
   "nbconvert_exporter": "python",
   "pygments_lexer": "ipython3",
   "version": "3.10.2"
  },
  "orig_nbformat": 4
 },
 "nbformat": 4,
 "nbformat_minor": 2
}
