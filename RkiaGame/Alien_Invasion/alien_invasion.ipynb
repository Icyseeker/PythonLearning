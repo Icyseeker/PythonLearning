{
 "cells": [
  {
   "cell_type": "code",
   "execution_count": 7,
   "metadata": {},
   "outputs": [
    {
     "ename": "ImportError",
     "evalue": "cannot import name 'Settings' from 'settings' (c:\\Users\\user\\Documents\\GitHub\\PythonLearning\\RkiaGame\\Alien_Invasion\\settings.py)",
     "output_type": "error",
     "traceback": [
      "\u001b[1;31m---------------------------------------------------------------------------\u001b[0m",
      "\u001b[1;31mImportError\u001b[0m                               Traceback (most recent call last)",
      "\u001b[1;32mc:\\Users\\user\\Documents\\GitHub\\PythonLearning\\RkiaGame\\Alien_Invasion\\alien_invasion.ipynb Cell 1'\u001b[0m in \u001b[0;36m<cell line: 3>\u001b[1;34m()\u001b[0m\n\u001b[0;32m      <a href='vscode-notebook-cell:/c%3A/Users/user/Documents/GitHub/PythonLearning/RkiaGame/Alien_Invasion/alien_invasion.ipynb#ch0000000?line=0'>1</a>\u001b[0m \u001b[39mimport\u001b[39;00m \u001b[39msys\u001b[39;00m\n\u001b[0;32m      <a href='vscode-notebook-cell:/c%3A/Users/user/Documents/GitHub/PythonLearning/RkiaGame/Alien_Invasion/alien_invasion.ipynb#ch0000000?line=1'>2</a>\u001b[0m \u001b[39mimport\u001b[39;00m \u001b[39mpygame\u001b[39;00m\n\u001b[1;32m----> <a href='vscode-notebook-cell:/c%3A/Users/user/Documents/GitHub/PythonLearning/RkiaGame/Alien_Invasion/alien_invasion.ipynb#ch0000000?line=2'>3</a>\u001b[0m \u001b[39mfrom\u001b[39;00m \u001b[39msettings\u001b[39;00m \u001b[39mimport\u001b[39;00m Settings\n",
      "\u001b[1;31mImportError\u001b[0m: cannot import name 'Settings' from 'settings' (c:\\Users\\user\\Documents\\GitHub\\PythonLearning\\RkiaGame\\Alien_Invasion\\settings.py)"
     ]
    }
   ],
   "source": [
    "import sys\n",
    "import pygame\n",
    "from settings import Settings\n",
    "    "
   ]
  },
  {
   "cell_type": "markdown",
   "metadata": {},
   "source": [
    "### Initialize"
   ]
  },
  {
   "cell_type": "code",
   "execution_count": null,
   "metadata": {},
   "outputs": [
    {
     "ename": "NameError",
     "evalue": "name 'Settings' is not defined",
     "output_type": "error",
     "traceback": [
      "\u001b[1;31m---------------------------------------------------------------------------\u001b[0m",
      "\u001b[1;31mNameError\u001b[0m                                 Traceback (most recent call last)",
      "\u001b[1;32mc:\\Users\\user\\Documents\\GitHub\\PythonLearning\\RkiaGame\\Alien_Invasion\\alien_invasion.ipynb Cell 3'\u001b[0m in \u001b[0;36m<cell line: 28>\u001b[1;34m()\u001b[0m\n\u001b[0;32m     <a href='vscode-notebook-cell:/c%3A/Users/user/Documents/GitHub/PythonLearning/RkiaGame/Alien_Invasion/alien_invasion.ipynb#ch0000002?line=24'>25</a>\u001b[0m             pygame\u001b[39m.\u001b[39mdisplay\u001b[39m.\u001b[39mflip()\n\u001b[0;32m     <a href='vscode-notebook-cell:/c%3A/Users/user/Documents/GitHub/PythonLearning/RkiaGame/Alien_Invasion/alien_invasion.ipynb#ch0000002?line=27'>28</a>\u001b[0m \u001b[39mif\u001b[39;00m \u001b[39m__name__\u001b[39m \u001b[39m==\u001b[39m \u001b[39m'\u001b[39m\u001b[39m__main__\u001b[39m\u001b[39m'\u001b[39m:\n\u001b[0;32m     <a href='vscode-notebook-cell:/c%3A/Users/user/Documents/GitHub/PythonLearning/RkiaGame/Alien_Invasion/alien_invasion.ipynb#ch0000002?line=28'>29</a>\u001b[0m     \u001b[39m# Make a game instance, and run the game.\u001b[39;00m\n\u001b[1;32m---> <a href='vscode-notebook-cell:/c%3A/Users/user/Documents/GitHub/PythonLearning/RkiaGame/Alien_Invasion/alien_invasion.ipynb#ch0000002?line=29'>30</a>\u001b[0m     ai \u001b[39m=\u001b[39m AlienInvasion()\n\u001b[0;32m     <a href='vscode-notebook-cell:/c%3A/Users/user/Documents/GitHub/PythonLearning/RkiaGame/Alien_Invasion/alien_invasion.ipynb#ch0000002?line=30'>31</a>\u001b[0m     ai\u001b[39m.\u001b[39m\u001b[39m__init__\u001b[39m()\n\u001b[0;32m     <a href='vscode-notebook-cell:/c%3A/Users/user/Documents/GitHub/PythonLearning/RkiaGame/Alien_Invasion/alien_invasion.ipynb#ch0000002?line=31'>32</a>\u001b[0m     ai\u001b[39m.\u001b[39mrun_game()\n",
      "\u001b[1;32mc:\\Users\\user\\Documents\\GitHub\\PythonLearning\\RkiaGame\\Alien_Invasion\\alien_invasion.ipynb Cell 3'\u001b[0m in \u001b[0;36mAlienInvasion.__init__\u001b[1;34m(self)\u001b[0m\n\u001b[0;32m      <a href='vscode-notebook-cell:/c%3A/Users/user/Documents/GitHub/PythonLearning/RkiaGame/Alien_Invasion/alien_invasion.ipynb#ch0000002?line=4'>5</a>\u001b[0m \u001b[39m\"\"\"Initialize the game, and create game resources.\"\"\"\u001b[39;00m\n\u001b[0;32m      <a href='vscode-notebook-cell:/c%3A/Users/user/Documents/GitHub/PythonLearning/RkiaGame/Alien_Invasion/alien_invasion.ipynb#ch0000002?line=5'>6</a>\u001b[0m pygame\u001b[39m.\u001b[39minit()\n\u001b[1;32m----> <a href='vscode-notebook-cell:/c%3A/Users/user/Documents/GitHub/PythonLearning/RkiaGame/Alien_Invasion/alien_invasion.ipynb#ch0000002?line=6'>7</a>\u001b[0m \u001b[39mself\u001b[39m\u001b[39m.\u001b[39msettings \u001b[39m=\u001b[39m Settings()\n\u001b[0;32m      <a href='vscode-notebook-cell:/c%3A/Users/user/Documents/GitHub/PythonLearning/RkiaGame/Alien_Invasion/alien_invasion.ipynb#ch0000002?line=8'>9</a>\u001b[0m \u001b[39mself\u001b[39m\u001b[39m.\u001b[39mscreen \u001b[39m=\u001b[39m pygame\u001b[39m.\u001b[39mdisplay\u001b[39m.\u001b[39mset_mode(\n\u001b[0;32m     <a href='vscode-notebook-cell:/c%3A/Users/user/Documents/GitHub/PythonLearning/RkiaGame/Alien_Invasion/alien_invasion.ipynb#ch0000002?line=9'>10</a>\u001b[0m     (\u001b[39mself\u001b[39m\u001b[39m.\u001b[39msettings\u001b[39m.\u001b[39mscreen_width, \u001b[39mself\u001b[39m\u001b[39m.\u001b[39msettings\u001b[39m.\u001b[39mscreen_height))\n\u001b[0;32m     <a href='vscode-notebook-cell:/c%3A/Users/user/Documents/GitHub/PythonLearning/RkiaGame/Alien_Invasion/alien_invasion.ipynb#ch0000002?line=10'>11</a>\u001b[0m pygame\u001b[39m.\u001b[39mdisplay\u001b[39m.\u001b[39mset_caption(\u001b[39m\"\u001b[39m\u001b[39mAlien Invasion\u001b[39m\u001b[39m\"\u001b[39m)\n",
      "\u001b[1;31mNameError\u001b[0m: name 'Settings' is not defined"
     ]
    }
   ],
   "source": [
    "class AlienInvasion:\n",
    "    \"\"\"Overall class to manage game assets and behavior.\"\"\"\n",
    "    \n",
    "    def __init__(self):\n",
    "        \"\"\"Initialize the game, and create game resources.\"\"\"\n",
    "        pygame.init()\n",
    "        self.settings = Settings()\n",
    "\n",
    "        self.screen = pygame.display.set_mode((self.settings.screen_width, self.settings.screen_height))\n",
    "        pygame.display.set_caption(\"Alien Invasion\")\n",
    "\n",
    "    def run_game(self):\n",
    "        \"\"\"Start the main loop for the game.\"\"\"\n",
    "        while True:\n",
    "            # Watch for keyboard and mouse events.\n",
    "            for event in pygame.event.get():\n",
    "                if event.type == pygame.QUIT:\n",
    "                    sys.exit()\n",
    "\n",
    "            # Redraw the screen during each pass through the loop.\n",
    "            self.screen.fill(self.settings.bg_color)\n",
    "\n",
    "            #Make the most recently drawn screen visible.\n",
    "            pygame.display.flip()\n",
    "\n",
    "\n",
    "if __name__ == '__main__':\n",
    "    # Make a game instance, and run the game.\n",
    "    ai = AlienInvasion()\n",
    "    ai.__init__()\n",
    "    ai.run_game()\n",
    "\n",
    "\n",
    "\n"
   ]
  }
 ],
 "metadata": {
  "interpreter": {
   "hash": "5d240ba0dc525c389faa33f5dcce5b4f32b6d6aa6d70d6d2dd929bd2b09ab69f"
  },
  "kernelspec": {
   "display_name": "Python 3.10.2 64-bit",
   "language": "python",
   "name": "python3"
  },
  "language_info": {
   "codemirror_mode": {
    "name": "ipython",
    "version": 3
   },
   "file_extension": ".py",
   "mimetype": "text/x-python",
   "name": "python",
   "nbconvert_exporter": "python",
   "pygments_lexer": "ipython3",
   "version": "3.10.2"
  },
  "orig_nbformat": 4
 },
 "nbformat": 4,
 "nbformat_minor": 2
}
